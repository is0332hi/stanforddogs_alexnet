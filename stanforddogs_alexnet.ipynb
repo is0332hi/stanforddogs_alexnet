{
  "nbformat": 4,
  "nbformat_minor": 0,
  "metadata": {
    "colab": {
      "name": "stanforddogs_alexnet.ipynb",
      "version": "0.3.2",
      "provenance": [],
      "collapsed_sections": []
    },
    "kernelspec": {
      "name": "python3",
      "display_name": "Python 3"
    },
    "accelerator": "GPU"
  },
  "cells": [
    {
      "cell_type": "code",
      "metadata": {
        "id": "LGyKYJq7gERH",
        "colab_type": "code",
        "colab": {
          "base_uri": "https://localhost:8080/",
          "height": 34
        },
        "outputId": "80e40911-46a8-4210-a1f6-d728d9cb3b8c"
      },
      "source": [
        "import numpy as np\n",
        "from google.colab import drive\n",
        "drive.mount(\"./gdrive\")\n",
        "drive_root_dir = \"./gdrive/My Drive/\"\n",
        "\n",
        "# X = images, Z = labels\n",
        "X = []\n",
        "Z = []\n",
        "imgsize = 227\n",
        "N = 10"
      ],
      "execution_count": 2,
      "outputs": [
        {
          "output_type": "stream",
          "text": [
            "Drive already mounted at ./gdrive; to attempt to forcibly remount, call drive.mount(\"./gdrive\", force_remount=True).\n"
          ],
          "name": "stdout"
        }
      ]
    },
    {
      "cell_type": "code",
      "metadata": {
        "id": "TDELNvuvtxRK",
        "colab_type": "code",
        "colab": {}
      },
      "source": [
        "from tqdm import tqdm\n",
        "import os\n",
        "import cv2\n",
        "\n",
        "def label_assignment(img,label):\n",
        "    return label\n",
        "\n",
        "#tqdm == progress var\n",
        "def training_data(label,data_dir):\n",
        "    for img in tqdm(os.listdir(data_dir)):\n",
        "        label = label_assignment(img,label)\n",
        "        path = os.path.join(data_dir,img)\n",
        "        img = cv2.imread(path,cv2.IMREAD_COLOR)\n",
        "        img = cv2.resize(img,(imgsize,imgsize))\n",
        "        \n",
        "        X.append(np.array(img))\n",
        "        Z.append(str(label))"
      ],
      "execution_count": 0,
      "outputs": []
    },
    {
      "cell_type": "code",
      "metadata": {
        "id": "8gxyTXrYuY44",
        "colab_type": "code",
        "colab": {
          "base_uri": "https://localhost:8080/",
          "height": 187
        },
        "outputId": "492f7880-33a4-4636-ee48-c6ce10c9e0cc"
      },
      "source": [
        "chihuahua_dir = drive_root_dir + 'Images/n02085620-Chihuahua'\n",
        "japanese_spaniel_dir = drive_root_dir + 'Images/n02085782-Japanese_spaniel'\n",
        "maltese_dir = drive_root_dir + 'Images/n02085936-Maltese_dog'\n",
        "pekinese_dir = drive_root_dir + 'Images/n02086079-Pekinese'\n",
        "shitzu_dir = drive_root_dir + 'Images/n02086240-Shih-Tzu'\n",
        "blenheim_spaniel_dir = drive_root_dir + 'Images/n02086646-Blenheim_spaniel'\n",
        "papillon_dir = drive_root_dir + 'Images/n02086910-papillon'\n",
        "toy_terrier_dir = drive_root_dir + 'Images/n02087046-toy_terrier'\n",
        "afghan_hound_dir = drive_root_dir + 'Images/n02088094-Afghan_hound'\n",
        "basset_dir = drive_root_dir + 'Images/n02088238-basset'\n",
        "\n",
        "training_data('chihuahua',chihuahua_dir)\n",
        "training_data('japanese_spaniel',japanese_spaniel_dir)\n",
        "training_data('maltese',maltese_dir)\n",
        "training_data('pekinese',pekinese_dir)\n",
        "training_data('shitzu',shitzu_dir)\n",
        "training_data('blenheim_spaniel',blenheim_spaniel_dir)\n",
        "training_data('papillon',papillon_dir)\n",
        "training_data('toy_terrier',toy_terrier_dir)\n",
        "training_data('afghan_hound',afghan_hound_dir)\n",
        "training_data('basset',basset_dir)"
      ],
      "execution_count": 4,
      "outputs": [
        {
          "output_type": "stream",
          "text": [
            "100%|██████████| 152/152 [00:00<00:00, 167.46it/s]\n",
            "100%|██████████| 185/185 [00:00<00:00, 196.79it/s]\n",
            "100%|██████████| 252/252 [00:01<00:00, 194.99it/s]\n",
            "100%|██████████| 149/149 [00:00<00:00, 212.51it/s]\n",
            "100%|██████████| 214/214 [00:01<00:00, 199.86it/s]\n",
            "100%|██████████| 188/188 [00:00<00:00, 206.22it/s]\n",
            "100%|██████████| 196/196 [00:00<00:00, 207.11it/s]\n",
            "100%|██████████| 172/172 [00:00<00:00, 206.33it/s]\n",
            "100%|██████████| 239/239 [00:01<00:00, 189.85it/s]\n",
            "100%|██████████| 175/175 [00:00<00:00, 191.94it/s]\n"
          ],
          "name": "stderr"
        }
      ]
    },
    {
      "cell_type": "code",
      "metadata": {
        "id": "rHPmD6ezukkj",
        "colab_type": "code",
        "colab": {}
      },
      "source": [
        "from sklearn.model_selection import train_test_split\n",
        "from sklearn.preprocessing import LabelEncoder\n",
        "from keras.utils.np_utils import to_categorical\n",
        "\n",
        "label_encoder= LabelEncoder()\n",
        "Y = label_encoder.fit_transform(Z)\n",
        "Y = to_categorical(Y,10)\n",
        "X = np.array(X)\n",
        "X = X/255"
      ],
      "execution_count": 0,
      "outputs": []
    },
    {
      "cell_type": "code",
      "metadata": {
        "id": "Brykd5Qax7KC",
        "colab_type": "code",
        "colab": {}
      },
      "source": [
        "#random_state == seed\n",
        "x_train,x_test,y_train,y_test = train_test_split(X,Y,test_size=0.3,random_state=69)\n",
        "x_train1, x_valid, y_train1, y_valid = train_test_split(x_train, y_train, test_size=0.175)\n",
        "\n",
        "from keras.preprocessing.image import ImageDataGenerator\n",
        "augs_gen = ImageDataGenerator(\n",
        "        featurewise_center=False,  \n",
        "        samplewise_center=False, \n",
        "        featurewise_std_normalization=False,  \n",
        "        samplewise_std_normalization=False,  \n",
        "        zca_whitening=False,  \n",
        "        rotation_range=10,  \n",
        "        zoom_range = 0.1, \n",
        "        width_shift_range=0.2,  \n",
        "        height_shift_range=0.2, \n",
        "        horizontal_flip=True,  \n",
        "        vertical_flip=False) \n",
        "\n",
        "augs_gen.fit(x_train)"
      ],
      "execution_count": 0,
      "outputs": []
    },
    {
      "cell_type": "code",
      "metadata": {
        "id": "x-iQidUOx_Rp",
        "colab_type": "code",
        "colab": {
          "base_uri": "https://localhost:8080/",
          "height": 734
        },
        "outputId": "6a23c649-e32f-4a49-fc27-1a8fe86d5ea3"
      },
      "source": [
        "from keras.models import Sequential\n",
        "from keras.layers import Dense, Dropout, Flatten\n",
        "from keras.layers import Conv2D, MaxPooling2D\n",
        "\n",
        "def Model():\n",
        "\n",
        "    w = [64,128,256,256,192,512,512,N]\n",
        "    #w = [96,256,384,384,256,4096,4096,N]\n",
        "    kernel = [11,3,5,3,3,3,3,3]\n",
        "\n",
        "    model = Sequential()\n",
        "    model.add(Conv2D(w[0], kernel_size=(kernel[0],kernel[0]), strides = 4, activation='relu', input_shape=(227, 227, 3)))\n",
        "    model.add(MaxPooling2D(pool_size=(kernel[1],kernel[1]),  strides = 2, padding='same'))\n",
        "    model.add(Conv2D(w[1], kernel_size=(kernel[2],kernel[2]), activation='relu'))\n",
        "    model.add(MaxPooling2D(pool_size=(kernel[3],kernel[3]),  strides = 2))\n",
        "    model.add(Conv2D(w[2], kernel_size=(kernel[4],kernel[4]), activation='relu'))\n",
        "    model.add(Conv2D(w[3], kernel_size=(kernel[5],kernel[5]), activation='relu'))\n",
        "    model.add(Conv2D(w[4], kernel_size=(kernel[6],kernel[6]), activation='relu'))\n",
        "    model.add(MaxPooling2D(pool_size=(kernel[7],kernel[7]), strides = 2))\n",
        "    model.add(Flatten())\n",
        "    model.add(Dense(w[5]))\n",
        "    model.add(Dropout(0.5))\n",
        "    model.add(Dense(w[6]))\n",
        "    model.add(Dropout(0.5))\n",
        "    model.add(Dense(w[7],activation='softmax'))\n",
        "\n",
        "    return model\n",
        "\n",
        "model = Model()\n",
        "model.summary()"
      ],
      "execution_count": 7,
      "outputs": [
        {
          "output_type": "stream",
          "text": [
            "WARNING:tensorflow:From /usr/local/lib/python3.6/dist-packages/tensorflow/python/framework/op_def_library.py:263: colocate_with (from tensorflow.python.framework.ops) is deprecated and will be removed in a future version.\n",
            "Instructions for updating:\n",
            "Colocations handled automatically by placer.\n",
            "WARNING:tensorflow:From /usr/local/lib/python3.6/dist-packages/keras/backend/tensorflow_backend.py:3445: calling dropout (from tensorflow.python.ops.nn_ops) with keep_prob is deprecated and will be removed in a future version.\n",
            "Instructions for updating:\n",
            "Please use `rate` instead of `keep_prob`. Rate should be set to `rate = 1 - keep_prob`.\n",
            "_________________________________________________________________\n",
            "Layer (type)                 Output Shape              Param #   \n",
            "=================================================================\n",
            "conv2d_1 (Conv2D)            (None, 55, 55, 64)        23296     \n",
            "_________________________________________________________________\n",
            "max_pooling2d_1 (MaxPooling2 (None, 28, 28, 64)        0         \n",
            "_________________________________________________________________\n",
            "conv2d_2 (Conv2D)            (None, 24, 24, 128)       204928    \n",
            "_________________________________________________________________\n",
            "max_pooling2d_2 (MaxPooling2 (None, 11, 11, 128)       0         \n",
            "_________________________________________________________________\n",
            "conv2d_3 (Conv2D)            (None, 9, 9, 256)         295168    \n",
            "_________________________________________________________________\n",
            "conv2d_4 (Conv2D)            (None, 7, 7, 256)         590080    \n",
            "_________________________________________________________________\n",
            "conv2d_5 (Conv2D)            (None, 5, 5, 192)         442560    \n",
            "_________________________________________________________________\n",
            "max_pooling2d_3 (MaxPooling2 (None, 2, 2, 192)         0         \n",
            "_________________________________________________________________\n",
            "flatten_1 (Flatten)          (None, 768)               0         \n",
            "_________________________________________________________________\n",
            "dense_1 (Dense)              (None, 512)               393728    \n",
            "_________________________________________________________________\n",
            "dropout_1 (Dropout)          (None, 512)               0         \n",
            "_________________________________________________________________\n",
            "dense_2 (Dense)              (None, 512)               262656    \n",
            "_________________________________________________________________\n",
            "dropout_2 (Dropout)          (None, 512)               0         \n",
            "_________________________________________________________________\n",
            "dense_3 (Dense)              (None, 10)                5130      \n",
            "=================================================================\n",
            "Total params: 2,217,546\n",
            "Trainable params: 2,217,546\n",
            "Non-trainable params: 0\n",
            "_________________________________________________________________\n"
          ],
          "name": "stdout"
        }
      ]
    },
    {
      "cell_type": "code",
      "metadata": {
        "id": "xBBTKdnLySDJ",
        "colab_type": "code",
        "colab": {
          "base_uri": "https://localhost:8080/",
          "height": 1734
        },
        "outputId": "b6813800-1557-4249-ef3b-7aeb61d98118"
      },
      "source": [
        "model.compile(loss='categorical_crossentropy',\n",
        "              optimizer='SGD',\n",
        "              metrics=['accuracy'])\n",
        "\n",
        "history = model.fit(x_train, y_train,\n",
        "                    batch_size=8,\n",
        "                    epochs=50,\n",
        "                    verbose=1,\n",
        "                    validation_data=(x_valid, y_valid))"
      ],
      "execution_count": 9,
      "outputs": [
        {
          "output_type": "stream",
          "text": [
            "Train on 1345 samples, validate on 236 samples\n",
            "Epoch 1/50\n",
            "1345/1345 [==============================] - 3s 2ms/step - loss: 2.1045 - acc: 0.2260 - val_loss: 2.2048 - val_acc: 0.2119\n",
            "Epoch 2/50\n",
            "1345/1345 [==============================] - 2s 2ms/step - loss: 2.0570 - acc: 0.2550 - val_loss: 1.9766 - val_acc: 0.3390\n",
            "Epoch 3/50\n",
            "1345/1345 [==============================] - 2s 2ms/step - loss: 2.0304 - acc: 0.2610 - val_loss: 2.2775 - val_acc: 0.2458\n",
            "Epoch 4/50\n",
            "1345/1345 [==============================] - 2s 2ms/step - loss: 1.9974 - acc: 0.2699 - val_loss: 1.8165 - val_acc: 0.4110\n",
            "Epoch 5/50\n",
            "1345/1345 [==============================] - 2s 2ms/step - loss: 1.9496 - acc: 0.3063 - val_loss: 1.7734 - val_acc: 0.4068\n",
            "Epoch 6/50\n",
            "1345/1345 [==============================] - 2s 2ms/step - loss: 1.9099 - acc: 0.3257 - val_loss: 1.8157 - val_acc: 0.3686\n",
            "Epoch 7/50\n",
            "1345/1345 [==============================] - 2s 2ms/step - loss: 1.8596 - acc: 0.3487 - val_loss: 1.9724 - val_acc: 0.3178\n",
            "Epoch 8/50\n",
            "1345/1345 [==============================] - 2s 2ms/step - loss: 1.8308 - acc: 0.3621 - val_loss: 2.4719 - val_acc: 0.0890\n",
            "Epoch 9/50\n",
            "1345/1345 [==============================] - 2s 2ms/step - loss: 1.7951 - acc: 0.3658 - val_loss: 1.7315 - val_acc: 0.3856\n",
            "Epoch 10/50\n",
            "1345/1345 [==============================] - 2s 2ms/step - loss: 1.7542 - acc: 0.3926 - val_loss: 1.4827 - val_acc: 0.4958\n",
            "Epoch 11/50\n",
            "1345/1345 [==============================] - 2s 2ms/step - loss: 1.7190 - acc: 0.3903 - val_loss: 2.7458 - val_acc: 0.1949\n",
            "Epoch 12/50\n",
            "1345/1345 [==============================] - 2s 2ms/step - loss: 1.6612 - acc: 0.4216 - val_loss: 1.8114 - val_acc: 0.3686\n",
            "Epoch 13/50\n",
            "1345/1345 [==============================] - 2s 2ms/step - loss: 1.6250 - acc: 0.4193 - val_loss: 1.7735 - val_acc: 0.3686\n",
            "Epoch 14/50\n",
            "1345/1345 [==============================] - 2s 2ms/step - loss: 1.5317 - acc: 0.4796 - val_loss: 1.6196 - val_acc: 0.4322\n",
            "Epoch 15/50\n",
            "1345/1345 [==============================] - 2s 2ms/step - loss: 1.4617 - acc: 0.4974 - val_loss: 2.4504 - val_acc: 0.3475\n",
            "Epoch 16/50\n",
            "1345/1345 [==============================] - 2s 2ms/step - loss: 1.4200 - acc: 0.4981 - val_loss: 1.1996 - val_acc: 0.6229\n",
            "Epoch 17/50\n",
            "1345/1345 [==============================] - 2s 2ms/step - loss: 1.2855 - acc: 0.5524 - val_loss: 1.2316 - val_acc: 0.5551\n",
            "Epoch 18/50\n",
            "1345/1345 [==============================] - 2s 2ms/step - loss: 1.2348 - acc: 0.5703 - val_loss: 0.8809 - val_acc: 0.7627\n",
            "Epoch 19/50\n",
            "1345/1345 [==============================] - 2s 2ms/step - loss: 1.0870 - acc: 0.6082 - val_loss: 1.5945 - val_acc: 0.4746\n",
            "Epoch 20/50\n",
            "1345/1345 [==============================] - 2s 2ms/step - loss: 1.0233 - acc: 0.6394 - val_loss: 0.7949 - val_acc: 0.7373\n",
            "Epoch 21/50\n",
            "1345/1345 [==============================] - 2s 2ms/step - loss: 0.9267 - acc: 0.6714 - val_loss: 0.7187 - val_acc: 0.7542\n",
            "Epoch 22/50\n",
            "1345/1345 [==============================] - 2s 2ms/step - loss: 0.7590 - acc: 0.7465 - val_loss: 3.0920 - val_acc: 0.3390\n",
            "Epoch 23/50\n",
            "1345/1345 [==============================] - 2s 2ms/step - loss: 0.7769 - acc: 0.7435 - val_loss: 0.3359 - val_acc: 0.9025\n",
            "Epoch 24/50\n",
            "1345/1345 [==============================] - 2s 2ms/step - loss: 0.6438 - acc: 0.7903 - val_loss: 1.1546 - val_acc: 0.6525\n",
            "Epoch 25/50\n",
            "1345/1345 [==============================] - 2s 2ms/step - loss: 0.5984 - acc: 0.7955 - val_loss: 0.2023 - val_acc: 0.9407\n",
            "Epoch 26/50\n",
            "1345/1345 [==============================] - 2s 2ms/step - loss: 0.5424 - acc: 0.8201 - val_loss: 0.1500 - val_acc: 0.9619\n",
            "Epoch 27/50\n",
            "1345/1345 [==============================] - 2s 2ms/step - loss: 0.3594 - acc: 0.8833 - val_loss: 4.7190 - val_acc: 0.3644\n",
            "Epoch 28/50\n",
            "1345/1345 [==============================] - 2s 2ms/step - loss: 0.4487 - acc: 0.8535 - val_loss: 0.3232 - val_acc: 0.9153\n",
            "Epoch 29/50\n",
            "1345/1345 [==============================] - 2s 2ms/step - loss: 0.2573 - acc: 0.9145 - val_loss: 0.1134 - val_acc: 0.9661\n",
            "Epoch 30/50\n",
            "1345/1345 [==============================] - 2s 2ms/step - loss: 0.3749 - acc: 0.8900 - val_loss: 0.2287 - val_acc: 0.9322\n",
            "Epoch 31/50\n",
            "1345/1345 [==============================] - 2s 2ms/step - loss: 0.1859 - acc: 0.9398 - val_loss: 0.1477 - val_acc: 0.9619\n",
            "Epoch 32/50\n",
            "1345/1345 [==============================] - 2s 2ms/step - loss: 0.3003 - acc: 0.9227 - val_loss: 0.2524 - val_acc: 0.9195\n",
            "Epoch 33/50\n",
            "1345/1345 [==============================] - 2s 2ms/step - loss: 0.1650 - acc: 0.9509 - val_loss: 0.0372 - val_acc: 0.9873\n",
            "Epoch 34/50\n",
            "1345/1345 [==============================] - 2s 2ms/step - loss: 0.1849 - acc: 0.9494 - val_loss: 0.0511 - val_acc: 0.9873\n",
            "Epoch 35/50\n",
            "1345/1345 [==============================] - 2s 2ms/step - loss: 0.0691 - acc: 0.9799 - val_loss: 0.0399 - val_acc: 0.9873\n",
            "Epoch 36/50\n",
            "1345/1345 [==============================] - 2s 2ms/step - loss: 0.2915 - acc: 0.9346 - val_loss: 0.6059 - val_acc: 0.8941\n",
            "Epoch 37/50\n",
            "1345/1345 [==============================] - 2s 2ms/step - loss: 0.2347 - acc: 0.9509 - val_loss: 0.0464 - val_acc: 1.0000\n",
            "Epoch 38/50\n",
            "1345/1345 [==============================] - 2s 2ms/step - loss: 0.0939 - acc: 0.9755 - val_loss: 0.0265 - val_acc: 0.9958\n",
            "Epoch 39/50\n",
            "1345/1345 [==============================] - 2s 2ms/step - loss: 0.0538 - acc: 0.9844 - val_loss: 0.0107 - val_acc: 1.0000\n",
            "Epoch 40/50\n",
            "1345/1345 [==============================] - 2s 2ms/step - loss: 0.1144 - acc: 0.9673 - val_loss: 0.0160 - val_acc: 1.0000\n",
            "Epoch 41/50\n",
            "1345/1345 [==============================] - 2s 2ms/step - loss: 0.0559 - acc: 0.9874 - val_loss: 0.0157 - val_acc: 0.9958\n",
            "Epoch 42/50\n",
            "1345/1345 [==============================] - 2s 2ms/step - loss: 0.0539 - acc: 0.9881 - val_loss: 0.0045 - val_acc: 1.0000\n",
            "Epoch 43/50\n",
            "1345/1345 [==============================] - 2s 2ms/step - loss: 0.0431 - acc: 0.9903 - val_loss: 0.0105 - val_acc: 1.0000\n",
            "Epoch 44/50\n",
            "1345/1345 [==============================] - 2s 2ms/step - loss: 0.0467 - acc: 0.9896 - val_loss: 0.0089 - val_acc: 0.9958\n",
            "Epoch 45/50\n",
            "1345/1345 [==============================] - 2s 2ms/step - loss: 0.2342 - acc: 0.9368 - val_loss: 0.0093 - val_acc: 1.0000\n",
            "Epoch 46/50\n",
            "1345/1345 [==============================] - 2s 2ms/step - loss: 0.0854 - acc: 0.9725 - val_loss: 0.0100 - val_acc: 1.0000\n",
            "Epoch 47/50\n",
            "1345/1345 [==============================] - 2s 2ms/step - loss: 0.0723 - acc: 0.9762 - val_loss: 0.0365 - val_acc: 0.9915\n",
            "Epoch 48/50\n",
            "1345/1345 [==============================] - 2s 2ms/step - loss: 0.0420 - acc: 0.9881 - val_loss: 0.0106 - val_acc: 1.0000\n",
            "Epoch 49/50\n",
            "1345/1345 [==============================] - 2s 2ms/step - loss: 0.0182 - acc: 0.9970 - val_loss: 0.0037 - val_acc: 1.0000\n",
            "Epoch 50/50\n",
            "1345/1345 [==============================] - 2s 2ms/step - loss: 0.0209 - acc: 0.9933 - val_loss: 0.0062 - val_acc: 1.0000\n"
          ],
          "name": "stdout"
        }
      ]
    },
    {
      "cell_type": "code",
      "metadata": {
        "id": "wE_VZrmI2Ufl",
        "colab_type": "code",
        "colab": {
          "base_uri": "https://localhost:8080/",
          "height": 51
        },
        "outputId": "42dbb919-3578-4243-fe8e-4513c8cc680d"
      },
      "source": [
        "score = model.evaluate(x_test, y_test, verbose=0)\n",
        "print('Test loss:', score[0])\n",
        "print('Test accuracy:', score[1])"
      ],
      "execution_count": 10,
      "outputs": [
        {
          "output_type": "stream",
          "text": [
            "Test loss: 4.074787277881253\n",
            "Test accuracy: 0.4038128249566724\n"
          ],
          "name": "stdout"
        }
      ]
    },
    {
      "cell_type": "code",
      "metadata": {
        "id": "m24Jtxgv2cVg",
        "colab_type": "code",
        "colab": {
          "base_uri": "https://localhost:8080/",
          "height": 573
        },
        "outputId": "e93883da-b9e7-4f39-82bc-dd5a08f6ab44"
      },
      "source": [
        "from matplotlib import pyplot as plt\n",
        "# 精度のplot\n",
        "plt.plot(history.history['acc'], marker='.', label='acc')\n",
        "plt.plot(history.history['val_acc'], marker='.', label='val_acc')\n",
        "plt.title('model accuracy')\n",
        "plt.grid()\n",
        "plt.xlabel('epoch')\n",
        "plt.ylabel('accuracy')\n",
        "plt.legend(loc='best')\n",
        "plt.show()\n",
        "\n",
        "# 損失のplot\n",
        "plt.plot(history.history['loss'], marker='.', label='loss')\n",
        "plt.plot(history.history['val_loss'], marker='.', label='val_loss')\n",
        "plt.title('model loss')\n",
        "plt.grid()\n",
        "plt.xlabel('epoch')\n",
        "plt.ylabel('loss')\n",
        "plt.legend(loc='best')\n",
        "plt.show()"
      ],
      "execution_count": 11,
      "outputs": [
        {
          "output_type": "display_data",
          "data": {
            "image/png": "[encoded data removed]",
            "text/plain": [
              "<Figure size 432x288 with 1 Axes>"
            ]
          },
          "metadata": {
            "tags": []
          }
        },
        {
          "output_type": "display_data",
          "data": {
            "image/png": "[encoded data removed]",
            "text/plain": [
              "<Figure size 432x288 with 1 Axes>"
            ]
          },
          "metadata": {
            "tags": []
          }
        }
      ]
    },
    {
      "cell_type": "code",
      "metadata": {
        "id": "dxylYHDz3cRo",
        "colab_type": "code",
        "colab": {
          "base_uri": "https://localhost:8080/",
          "height": 187
        },
        "outputId": "ef4b4ca7-43e6-4298-8b19-254be6f96a1a"
      },
      "source": [
        "#model.save(drive_root_dir + \"alexdogs_model.h5\")\n",
        "\n",
        "from sklearn.metrics import confusion_matrix\n",
        "predict_classes = model.predict_classes(x_test)\n",
        "true_classes = np.argmax(y_test,1)\n",
        "print(confusion_matrix(true_classes,predict_classes))"
      ],
      "execution_count": 12,
      "outputs": [
        {
          "output_type": "stream",
          "text": [
            "[[33  3  2 10  8  3  3  0  5 11]\n",
            " [ 7 12  5  3  2  2  6  0  4  6]\n",
            " [ 3  2 25  1  8  2  6  0  5  3]\n",
            " [ 4  8  0 10  4 10  5  1  5  6]\n",
            " [ 2  2  5  1 32  1 12  0  4  1]\n",
            " [ 6  2  0  2  6 57  4  0  9  2]\n",
            " [ 0  2  2  1 13  2 23  0  2  3]\n",
            " [ 4  3  1 15  7  5  1  6  7  3]\n",
            " [ 3  3  1  6  6  7  3  1 18  4]\n",
            " [ 3  3  0  4  3  2  8  1  3 17]]\n"
          ],
          "name": "stdout"
        }
      ]
    }
  ]
}